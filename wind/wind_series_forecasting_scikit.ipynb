{
 "cells": [
  {
   "cell_type": "code",
   "execution_count": 3,
   "metadata": {},
   "outputs": [],
   "source": [
    "import os\n",
    "import numpy as np\n",
    "import pandas as pd\n",
    "import matplotlib.pyplot as plt\n",
    "import seaborn as sns\n",
    "from sklearn.neural_network import MLPRegressor\n",
    "from sklearn.metrics import accuracy_score, mean_squared_error\n",
    "from sklearn.preprocessing import normalize, MinMaxScaler\n",
    "from sklearn.model_selection import train_test_split"
   ]
  },
  {
   "cell_type": "markdown",
   "metadata": {},
   "source": [
    "### Import datasets"
   ]
  },
  {
   "cell_type": "code",
   "execution_count": 5,
   "metadata": {},
   "outputs": [],
   "source": [
    "april = pd.read_excel(\"wind_series/april_92.xls\", header=None, names=['A'])\n",
    "april = pd.DataFrame(april)\n",
    "may = pd.read_excel(\"wind_series/may_92.xls\", header=None, names=['M'])\n",
    "may = pd.DataFrame(may)"
   ]
  },
  {
   "cell_type": "markdown",
   "metadata": {},
   "source": [
    "### Define Lags"
   ]
  },
  {
   "cell_type": "code",
   "execution_count": 6,
   "metadata": {},
   "outputs": [],
   "source": [
    "lag = [1, 2, 3, 4, 5, 25, 200]"
   ]
  },
  {
   "cell_type": "markdown",
   "metadata": {},
   "source": [
    "### Build the train lagged matrix of inputs"
   ]
  },
  {
   "cell_type": "markdown",
   "metadata": {},
   "source": [
    "### Build test and validation lagged matrix"
   ]
  },
  {
   "cell_type": "code",
   "execution_count": 18,
   "metadata": {},
   "outputs": [],
   "source": [
    "lag_april = april.iloc[200:4320].reset_index(drop=True)\n",
    "lag_may_val = may.iloc[200:2500].reset_index(drop=True)\n",
    "lag_may_tst = may.iloc[2501:4460].reset_index(drop=True)\n",
    "\n",
    "#lag matrix\n",
    "for i in lag:\n",
    "    lag_april = pd.concat([lag_april, april.iloc[200-i:4320-i].reset_index(drop=True)], axis=1)                          \n",
    "    lag_may_val = pd.concat([lag_may_val, may.iloc[200-i:2500-i].reset_index(drop=True)], axis=1)\n",
    "    lag_may_tst = pd.concat([lag_may_tst, may.iloc[2501-i:4460-i].reset_index(drop=True)], axis=1)\n",
    "\n",
    "lag_april.columns=['t','t-1','t-2','t-3','t-4','t-5','t-25','t-200'] \n",
    "lag_may_val.columns=['t','t-1','t-2','t-3','t-4','t-5','t-25','t-200']\n",
    "lag_may_tst.columns=['t','t-1','t-2','t-3','t-4','t-5','t-25','t-200']\n",
    "\n",
    "#dataset\n",
    "X_train = lag_april\n",
    "X_val = lag_may_val\n",
    "X_test = lag_may_tst\n",
    "\n",
    "Y_train = april.iloc[200:4320]\n",
    "Y_val = may.iloc[200:2500]\n",
    "Y_test = may.iloc[2501:4460]"
   ]
  },
  {
   "cell_type": "code",
   "execution_count": 19,
   "metadata": {},
   "outputs": [
    {
     "data": {
      "text/html": [
       "<div>\n",
       "<style scoped>\n",
       "    .dataframe tbody tr th:only-of-type {\n",
       "        vertical-align: middle;\n",
       "    }\n",
       "\n",
       "    .dataframe tbody tr th {\n",
       "        vertical-align: top;\n",
       "    }\n",
       "\n",
       "    .dataframe thead th {\n",
       "        text-align: right;\n",
       "    }\n",
       "</style>\n",
       "<table border=\"1\" class=\"dataframe\">\n",
       "  <thead>\n",
       "    <tr style=\"text-align: right;\">\n",
       "      <th></th>\n",
       "      <th>t</th>\n",
       "      <th>t-1</th>\n",
       "      <th>t-2</th>\n",
       "      <th>t-3</th>\n",
       "      <th>t-4</th>\n",
       "      <th>t-5</th>\n",
       "      <th>t-25</th>\n",
       "      <th>t-200</th>\n",
       "    </tr>\n",
       "  </thead>\n",
       "  <tbody>\n",
       "    <tr>\n",
       "      <th>0</th>\n",
       "      <td>5.82</td>\n",
       "      <td>6.50</td>\n",
       "      <td>6.71</td>\n",
       "      <td>6.64</td>\n",
       "      <td>7.16</td>\n",
       "      <td>6.81</td>\n",
       "      <td>4.75</td>\n",
       "      <td>10.53</td>\n",
       "    </tr>\n",
       "    <tr>\n",
       "      <th>1</th>\n",
       "      <td>6.12</td>\n",
       "      <td>5.82</td>\n",
       "      <td>6.50</td>\n",
       "      <td>6.71</td>\n",
       "      <td>6.64</td>\n",
       "      <td>7.16</td>\n",
       "      <td>5.37</td>\n",
       "      <td>10.49</td>\n",
       "    </tr>\n",
       "    <tr>\n",
       "      <th>2</th>\n",
       "      <td>5.92</td>\n",
       "      <td>6.12</td>\n",
       "      <td>5.82</td>\n",
       "      <td>6.50</td>\n",
       "      <td>6.71</td>\n",
       "      <td>6.64</td>\n",
       "      <td>6.26</td>\n",
       "      <td>9.08</td>\n",
       "    </tr>\n",
       "    <tr>\n",
       "      <th>3</th>\n",
       "      <td>5.54</td>\n",
       "      <td>5.92</td>\n",
       "      <td>6.12</td>\n",
       "      <td>5.82</td>\n",
       "      <td>6.50</td>\n",
       "      <td>6.71</td>\n",
       "      <td>6.16</td>\n",
       "      <td>9.80</td>\n",
       "    </tr>\n",
       "    <tr>\n",
       "      <th>4</th>\n",
       "      <td>4.99</td>\n",
       "      <td>5.54</td>\n",
       "      <td>5.92</td>\n",
       "      <td>6.12</td>\n",
       "      <td>5.82</td>\n",
       "      <td>6.50</td>\n",
       "      <td>5.71</td>\n",
       "      <td>11.35</td>\n",
       "    </tr>\n",
       "    <tr>\n",
       "      <th>...</th>\n",
       "      <td>...</td>\n",
       "      <td>...</td>\n",
       "      <td>...</td>\n",
       "      <td>...</td>\n",
       "      <td>...</td>\n",
       "      <td>...</td>\n",
       "      <td>...</td>\n",
       "      <td>...</td>\n",
       "    </tr>\n",
       "    <tr>\n",
       "      <th>4115</th>\n",
       "      <td>2.69</td>\n",
       "      <td>2.82</td>\n",
       "      <td>2.89</td>\n",
       "      <td>2.38</td>\n",
       "      <td>2.34</td>\n",
       "      <td>2.65</td>\n",
       "      <td>3.41</td>\n",
       "      <td>3.17</td>\n",
       "    </tr>\n",
       "    <tr>\n",
       "      <th>4116</th>\n",
       "      <td>2.34</td>\n",
       "      <td>2.69</td>\n",
       "      <td>2.82</td>\n",
       "      <td>2.89</td>\n",
       "      <td>2.38</td>\n",
       "      <td>2.34</td>\n",
       "      <td>3.82</td>\n",
       "      <td>3.92</td>\n",
       "    </tr>\n",
       "    <tr>\n",
       "      <th>4117</th>\n",
       "      <td>2.21</td>\n",
       "      <td>2.34</td>\n",
       "      <td>2.69</td>\n",
       "      <td>2.82</td>\n",
       "      <td>2.89</td>\n",
       "      <td>2.38</td>\n",
       "      <td>3.89</td>\n",
       "      <td>3.86</td>\n",
       "    </tr>\n",
       "    <tr>\n",
       "      <th>4118</th>\n",
       "      <td>1.79</td>\n",
       "      <td>2.21</td>\n",
       "      <td>2.34</td>\n",
       "      <td>2.69</td>\n",
       "      <td>2.82</td>\n",
       "      <td>2.89</td>\n",
       "      <td>3.24</td>\n",
       "      <td>3.99</td>\n",
       "    </tr>\n",
       "    <tr>\n",
       "      <th>4119</th>\n",
       "      <td>1.83</td>\n",
       "      <td>1.79</td>\n",
       "      <td>2.21</td>\n",
       "      <td>2.34</td>\n",
       "      <td>2.69</td>\n",
       "      <td>2.82</td>\n",
       "      <td>3.48</td>\n",
       "      <td>4.89</td>\n",
       "    </tr>\n",
       "  </tbody>\n",
       "</table>\n",
       "<p>4120 rows × 8 columns</p>\n",
       "</div>"
      ],
      "text/plain": [
       "         t   t-1   t-2   t-3   t-4   t-5  t-25  t-200\n",
       "0     5.82  6.50  6.71  6.64  7.16  6.81  4.75  10.53\n",
       "1     6.12  5.82  6.50  6.71  6.64  7.16  5.37  10.49\n",
       "2     5.92  6.12  5.82  6.50  6.71  6.64  6.26   9.08\n",
       "3     5.54  5.92  6.12  5.82  6.50  6.71  6.16   9.80\n",
       "4     4.99  5.54  5.92  6.12  5.82  6.50  5.71  11.35\n",
       "...    ...   ...   ...   ...   ...   ...   ...    ...\n",
       "4115  2.69  2.82  2.89  2.38  2.34  2.65  3.41   3.17\n",
       "4116  2.34  2.69  2.82  2.89  2.38  2.34  3.82   3.92\n",
       "4117  2.21  2.34  2.69  2.82  2.89  2.38  3.89   3.86\n",
       "4118  1.79  2.21  2.34  2.69  2.82  2.89  3.24   3.99\n",
       "4119  1.83  1.79  2.21  2.34  2.69  2.82  3.48   4.89\n",
       "\n",
       "[4120 rows x 8 columns]"
      ]
     },
     "execution_count": 19,
     "metadata": {},
     "output_type": "execute_result"
    }
   ],
   "source": [
    "lag_april"
   ]
  },
  {
   "cell_type": "markdown",
   "metadata": {},
   "source": [
    "### Verify correlationship of the matrix"
   ]
  },
  {
   "cell_type": "code",
   "execution_count": 8,
   "metadata": {},
   "outputs": [
    {
     "data": {
      "text/plain": [
       "array([1.        , 0.96374947, 0.89844131, 0.90279273, 0.91375579,\n",
       "       0.8582129 , 0.88860148])"
      ]
     },
     "execution_count": 8,
     "metadata": {},
     "output_type": "execute_result"
    }
   ],
   "source": [
    "corr_coef = np.corrcoef(lag_april, lag_april)[0][:7]\n",
    "corr_coef"
   ]
  },
  {
   "cell_type": "markdown",
   "metadata": {},
   "source": [
    "#### Normalize Datasets"
   ]
  },
  {
   "cell_type": "code",
   "execution_count": 9,
   "metadata": {},
   "outputs": [],
   "source": [
    "scaler = MinMaxScaler()\n",
    "X_train = scaler.fit_transform(X_train)\n",
    "X_val = scaler.fit_transform(X_val)\n",
    "X_test = scaler.fit_transform(X_test)\n",
    "\n",
    "Y_train = scaler.fit_transform(Y_train).flatten()\n",
    "Y_val = scaler.fit_transform(Y_val).flatten()\n",
    "Y_test = scaler.fit_transform(Y_test).flatten()"
   ]
  },
  {
   "cell_type": "markdown",
   "metadata": {},
   "source": [
    "### Building Network"
   ]
  },
  {
   "cell_type": "markdown",
   "metadata": {},
   "source": [
    "#### Train"
   ]
  },
  {
   "cell_type": "code",
   "execution_count": 10,
   "metadata": {},
   "outputs": [],
   "source": [
    "regr  = MLPRegressor(random_state=1, max_iter=500).fit(X_train, Y_train)"
   ]
  },
  {
   "cell_type": "markdown",
   "metadata": {},
   "source": [
    "##### Predict test data"
   ]
  },
  {
   "cell_type": "code",
   "execution_count": 11,
   "metadata": {},
   "outputs": [],
   "source": [
    "pred = regr.predict(X_test)"
   ]
  },
  {
   "cell_type": "code",
   "execution_count": 12,
   "metadata": {},
   "outputs": [
    {
     "data": {
      "text/plain": [
       "Text(0.5, 0, 'Data Sample')"
      ]
     },
     "execution_count": 12,
     "metadata": {},
     "output_type": "execute_result"
    },
    {
     "data": {
      "image/png": "[encoded data removed]",
      "text/plain": [
       "<Figure size 432x288 with 1 Axes>"
      ]
     },
     "metadata": {
      "needs_background": "light"
     },
     "output_type": "display_data"
    }
   ],
   "source": [
    "plt.plot(np.arange(1959),Y_test.flatten(), 'r',label='Real')\n",
    "plt.plot(np.arange(1959),pred.flatten(), 'b',label='Predicted')\n",
    "plt.legend()\n",
    "plt.ylabel(\"Wind Speed\")\n",
    "plt.xlabel(\"Data Sample\")"
   ]
  },
  {
   "cell_type": "code",
   "execution_count": 13,
   "metadata": {},
   "outputs": [],
   "source": [
    "##### Predict validation data"
   ]
  },
  {
   "cell_type": "code",
   "execution_count": 14,
   "metadata": {},
   "outputs": [
    {
     "data": {
      "text/plain": [
       "1959"
      ]
     },
     "execution_count": 14,
     "metadata": {},
     "output_type": "execute_result"
    }
   ],
   "source": [
    "pred_val = regr.predict(X_val)\n",
    "len(pred)"
   ]
  },
  {
   "cell_type": "code",
   "execution_count": 15,
   "metadata": {},
   "outputs": [
    {
     "data": {
      "text/plain": [
       "Text(0.5, 0, 'Data Sample')"
      ]
     },
     "execution_count": 15,
     "metadata": {},
     "output_type": "execute_result"
    },
    {
     "data": {
      "image/png": "[encoded data removed]",
      "text/plain": [
       "<Figure size 432x288 with 1 Axes>"
      ]
     },
     "metadata": {
      "needs_background": "light"
     },
     "output_type": "display_data"
    }
   ],
   "source": [
    "plt.plot(np.arange(2300),Y_val.flatten(), 'r',label='Real')\n",
    "plt.plot(np.arange(2300),pred_val.flatten(), 'b',label='Predicted')\n",
    "plt.legend()\n",
    "plt.ylabel(\"Wind Speed\")\n",
    "plt.xlabel(\"Data Sample\")"
   ]
  }
 ],
 "metadata": {
  "kernelspec": {
   "display_name": "Python 3",
   "language": "python",
   "name": "python3"
  },
  "language_info": {
   "codemirror_mode": {
    "name": "ipython",
    "version": 3
   },
   "file_extension": ".py",
   "mimetype": "text/x-python",
   "name": "python",
   "nbconvert_exporter": "python",
   "pygments_lexer": "ipython3",
   "version": "3.7.9"
  }
 },
 "nbformat": 4,
 "nbformat_minor": 4
}
