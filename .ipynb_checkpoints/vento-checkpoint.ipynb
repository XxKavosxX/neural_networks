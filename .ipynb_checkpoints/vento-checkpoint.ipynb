{
 "cells": [
  {
   "cell_type": "code",
   "execution_count": 1,
   "metadata": {
    "id": "zR5-WSAfIJjz"
   },
   "outputs": [],
   "source": [
    "import os\n",
    "import numpy as np\n",
    "import pandas as pd\n",
    "import matplotlib.pyplot as plt\n",
    "import seaborn as sns\n",
    "from sklearn.neural_network import MLPRegressor\n",
    "from sklearn.metrics import accuracy_score, mean_squared_error\n",
    "from sklearn.preprocessing import normalize, MinMaxScaler\n"
   ]
  },
  {
   "cell_type": "code",
   "execution_count": 2,
   "metadata": {
    "id": "mQY_NapWKrAH"
   },
   "outputs": [],
   "source": [
    "abril = pd.read_excel(\"files/wind_series/april_92.xls\", header=None, names=['A'])\n",
    "abril = pd.DataFrame(abril)\n",
    "maio = pd.read_excel(\"files/wind_series/may_92.xls\", header=None, names=['A'])\n",
    "maio = pd.DataFrame(maio)"
   ]
  },
  {
   "cell_type": "code",
   "execution_count": 3,
   "metadata": {
    "colab": {
     "base_uri": "https://localhost:8080/",
     "height": 419
    },
    "id": "f-Md066aK3OE",
    "outputId": "0fa4317e-2b60-49df-ebdc-82c3c42e5183"
   },
   "outputs": [
    {
     "data": {
      "text/html": [
       "<div>\n",
       "<style scoped>\n",
       "    .dataframe tbody tr th:only-of-type {\n",
       "        vertical-align: middle;\n",
       "    }\n",
       "\n",
       "    .dataframe tbody tr th {\n",
       "        vertical-align: top;\n",
       "    }\n",
       "\n",
       "    .dataframe thead th {\n",
       "        text-align: right;\n",
       "    }\n",
       "</style>\n",
       "<table border=\"1\" class=\"dataframe\">\n",
       "  <thead>\n",
       "    <tr style=\"text-align: right;\">\n",
       "      <th></th>\n",
       "      <th>A</th>\n",
       "      <th>A-1</th>\n",
       "      <th>A-2</th>\n",
       "      <th>A-3</th>\n",
       "      <th>A-4</th>\n",
       "      <th>A-5</th>\n",
       "      <th>A-25</th>\n",
       "      <th>A-50</th>\n",
       "      <th>A-100</th>\n",
       "      <th>A-200</th>\n",
       "    </tr>\n",
       "  </thead>\n",
       "  <tbody>\n",
       "    <tr>\n",
       "      <th>0</th>\n",
       "      <td>5.82</td>\n",
       "      <td>6.50</td>\n",
       "      <td>6.71</td>\n",
       "      <td>6.64</td>\n",
       "      <td>7.16</td>\n",
       "      <td>6.81</td>\n",
       "      <td>4.75</td>\n",
       "      <td>8.36</td>\n",
       "      <td>7.91</td>\n",
       "      <td>10.53</td>\n",
       "    </tr>\n",
       "    <tr>\n",
       "      <th>1</th>\n",
       "      <td>6.12</td>\n",
       "      <td>5.82</td>\n",
       "      <td>6.50</td>\n",
       "      <td>6.71</td>\n",
       "      <td>6.64</td>\n",
       "      <td>7.16</td>\n",
       "      <td>5.37</td>\n",
       "      <td>7.88</td>\n",
       "      <td>5.92</td>\n",
       "      <td>10.49</td>\n",
       "    </tr>\n",
       "    <tr>\n",
       "      <th>2</th>\n",
       "      <td>5.92</td>\n",
       "      <td>6.12</td>\n",
       "      <td>5.82</td>\n",
       "      <td>6.50</td>\n",
       "      <td>6.71</td>\n",
       "      <td>6.64</td>\n",
       "      <td>6.26</td>\n",
       "      <td>6.16</td>\n",
       "      <td>6.43</td>\n",
       "      <td>9.08</td>\n",
       "    </tr>\n",
       "    <tr>\n",
       "      <th>3</th>\n",
       "      <td>5.54</td>\n",
       "      <td>5.92</td>\n",
       "      <td>6.12</td>\n",
       "      <td>5.82</td>\n",
       "      <td>6.50</td>\n",
       "      <td>6.71</td>\n",
       "      <td>6.16</td>\n",
       "      <td>6.98</td>\n",
       "      <td>8.39</td>\n",
       "      <td>9.80</td>\n",
       "    </tr>\n",
       "    <tr>\n",
       "      <th>4</th>\n",
       "      <td>4.99</td>\n",
       "      <td>5.54</td>\n",
       "      <td>5.92</td>\n",
       "      <td>6.12</td>\n",
       "      <td>5.82</td>\n",
       "      <td>6.50</td>\n",
       "      <td>5.71</td>\n",
       "      <td>7.57</td>\n",
       "      <td>10.97</td>\n",
       "      <td>11.35</td>\n",
       "    </tr>\n",
       "    <tr>\n",
       "      <th>...</th>\n",
       "      <td>...</td>\n",
       "      <td>...</td>\n",
       "      <td>...</td>\n",
       "      <td>...</td>\n",
       "      <td>...</td>\n",
       "      <td>...</td>\n",
       "      <td>...</td>\n",
       "      <td>...</td>\n",
       "      <td>...</td>\n",
       "      <td>...</td>\n",
       "    </tr>\n",
       "    <tr>\n",
       "      <th>4115</th>\n",
       "      <td>2.69</td>\n",
       "      <td>2.82</td>\n",
       "      <td>2.89</td>\n",
       "      <td>2.38</td>\n",
       "      <td>2.34</td>\n",
       "      <td>2.65</td>\n",
       "      <td>3.41</td>\n",
       "      <td>4.47</td>\n",
       "      <td>1.45</td>\n",
       "      <td>3.17</td>\n",
       "    </tr>\n",
       "    <tr>\n",
       "      <th>4116</th>\n",
       "      <td>2.34</td>\n",
       "      <td>2.69</td>\n",
       "      <td>2.82</td>\n",
       "      <td>2.89</td>\n",
       "      <td>2.38</td>\n",
       "      <td>2.34</td>\n",
       "      <td>3.82</td>\n",
       "      <td>3.96</td>\n",
       "      <td>1.55</td>\n",
       "      <td>3.92</td>\n",
       "    </tr>\n",
       "    <tr>\n",
       "      <th>4117</th>\n",
       "      <td>2.21</td>\n",
       "      <td>2.34</td>\n",
       "      <td>2.69</td>\n",
       "      <td>2.82</td>\n",
       "      <td>2.89</td>\n",
       "      <td>2.38</td>\n",
       "      <td>3.89</td>\n",
       "      <td>3.48</td>\n",
       "      <td>1.28</td>\n",
       "      <td>3.86</td>\n",
       "    </tr>\n",
       "    <tr>\n",
       "      <th>4118</th>\n",
       "      <td>1.79</td>\n",
       "      <td>2.21</td>\n",
       "      <td>2.34</td>\n",
       "      <td>2.69</td>\n",
       "      <td>2.82</td>\n",
       "      <td>2.89</td>\n",
       "      <td>3.24</td>\n",
       "      <td>4.41</td>\n",
       "      <td>0.76</td>\n",
       "      <td>3.99</td>\n",
       "    </tr>\n",
       "    <tr>\n",
       "      <th>4119</th>\n",
       "      <td>1.83</td>\n",
       "      <td>1.79</td>\n",
       "      <td>2.21</td>\n",
       "      <td>2.34</td>\n",
       "      <td>2.69</td>\n",
       "      <td>2.82</td>\n",
       "      <td>3.48</td>\n",
       "      <td>4.30</td>\n",
       "      <td>1.28</td>\n",
       "      <td>4.89</td>\n",
       "    </tr>\n",
       "  </tbody>\n",
       "</table>\n",
       "<p>4120 rows × 10 columns</p>\n",
       "</div>"
      ],
      "text/plain": [
       "         A   A-1   A-2   A-3   A-4   A-5  A-25  A-50  A-100  A-200\n",
       "0     5.82  6.50  6.71  6.64  7.16  6.81  4.75  8.36   7.91  10.53\n",
       "1     6.12  5.82  6.50  6.71  6.64  7.16  5.37  7.88   5.92  10.49\n",
       "2     5.92  6.12  5.82  6.50  6.71  6.64  6.26  6.16   6.43   9.08\n",
       "3     5.54  5.92  6.12  5.82  6.50  6.71  6.16  6.98   8.39   9.80\n",
       "4     4.99  5.54  5.92  6.12  5.82  6.50  5.71  7.57  10.97  11.35\n",
       "...    ...   ...   ...   ...   ...   ...   ...   ...    ...    ...\n",
       "4115  2.69  2.82  2.89  2.38  2.34  2.65  3.41  4.47   1.45   3.17\n",
       "4116  2.34  2.69  2.82  2.89  2.38  2.34  3.82  3.96   1.55   3.92\n",
       "4117  2.21  2.34  2.69  2.82  2.89  2.38  3.89  3.48   1.28   3.86\n",
       "4118  1.79  2.21  2.34  2.69  2.82  2.89  3.24  4.41   0.76   3.99\n",
       "4119  1.83  1.79  2.21  2.34  2.69  2.82  3.48  4.30   1.28   4.89\n",
       "\n",
       "[4120 rows x 10 columns]"
      ]
     },
     "execution_count": 3,
     "metadata": {},
     "output_type": "execute_result"
    }
   ],
   "source": [
    "#lags\n",
    "lag = [1, 2, 3, 4, 5, 25, 50, 100, 200]\n",
    "lag_abril = abril.iloc[200:4320].reset_index(drop=True)\n",
    "lag_abril\n",
    "#lag matrix\n",
    "for i in lag:\n",
    "    lag_abril = pd.concat([lag_abril, abril.iloc[200-i:4320-i].reset_index(drop=True)], axis=1)                          \n",
    "lag_abril.columns=['A','A-1','A-2','A-3','A-4','A-5','A-25','A-50','A-100','A-200']\n",
    "lag_abril"
   ]
  },
  {
   "cell_type": "code",
   "execution_count": 4,
   "metadata": {
    "colab": {
     "base_uri": "https://localhost:8080/",
     "height": 34
    },
    "id": "nkW6a-CLK5IF",
    "outputId": "dca26221-fa22-437e-cd73-0b8eb8acdb8e"
   },
   "outputs": [
    {
     "data": {
      "text/plain": [
       "array([1.        , 0.88294284, 0.77320448, 0.8665616 , 0.82122812])"
      ]
     },
     "execution_count": 4,
     "metadata": {},
     "output_type": "execute_result"
    }
   ],
   "source": [
    "corr_coef = np.corrcoef(lag_abril, lag_abril)[0][0:5]\n",
    "corr_coef"
   ]
  },
  {
   "cell_type": "code",
   "execution_count": 5,
   "metadata": {
    "colab": {
     "base_uri": "https://localhost:8080/",
     "height": 419
    },
    "id": "AKdeNLSIK7Sx",
    "outputId": "6c4f8383-f8d4-4324-ea1e-542f0e257512"
   },
   "outputs": [
    {
     "data": {
      "text/html": [
       "<div>\n",
       "<style scoped>\n",
       "    .dataframe tbody tr th:only-of-type {\n",
       "        vertical-align: middle;\n",
       "    }\n",
       "\n",
       "    .dataframe tbody tr th {\n",
       "        vertical-align: top;\n",
       "    }\n",
       "\n",
       "    .dataframe thead th {\n",
       "        text-align: right;\n",
       "    }\n",
       "</style>\n",
       "<table border=\"1\" class=\"dataframe\">\n",
       "  <thead>\n",
       "    <tr style=\"text-align: right;\">\n",
       "      <th></th>\n",
       "      <th>A</th>\n",
       "    </tr>\n",
       "  </thead>\n",
       "  <tbody>\n",
       "    <tr>\n",
       "      <th>2501</th>\n",
       "      <td>1.38</td>\n",
       "    </tr>\n",
       "    <tr>\n",
       "      <th>2502</th>\n",
       "      <td>1.11</td>\n",
       "    </tr>\n",
       "    <tr>\n",
       "      <th>2503</th>\n",
       "      <td>1.11</td>\n",
       "    </tr>\n",
       "    <tr>\n",
       "      <th>2504</th>\n",
       "      <td>1.48</td>\n",
       "    </tr>\n",
       "    <tr>\n",
       "      <th>2505</th>\n",
       "      <td>1.72</td>\n",
       "    </tr>\n",
       "    <tr>\n",
       "      <th>...</th>\n",
       "      <td>...</td>\n",
       "    </tr>\n",
       "    <tr>\n",
       "      <th>4455</th>\n",
       "      <td>0.49</td>\n",
       "    </tr>\n",
       "    <tr>\n",
       "      <th>4456</th>\n",
       "      <td>0.62</td>\n",
       "    </tr>\n",
       "    <tr>\n",
       "      <th>4457</th>\n",
       "      <td>0.93</td>\n",
       "    </tr>\n",
       "    <tr>\n",
       "      <th>4458</th>\n",
       "      <td>0.83</td>\n",
       "    </tr>\n",
       "    <tr>\n",
       "      <th>4459</th>\n",
       "      <td>0.59</td>\n",
       "    </tr>\n",
       "  </tbody>\n",
       "</table>\n",
       "<p>1959 rows × 1 columns</p>\n",
       "</div>"
      ],
      "text/plain": [
       "         A\n",
       "2501  1.38\n",
       "2502  1.11\n",
       "2503  1.11\n",
       "2504  1.48\n",
       "2505  1.72\n",
       "...    ...\n",
       "4455  0.49\n",
       "4456  0.62\n",
       "4457  0.93\n",
       "4458  0.83\n",
       "4459  0.59\n",
       "\n",
       "[1959 rows x 1 columns]"
      ]
     },
     "execution_count": 5,
     "metadata": {},
     "output_type": "execute_result"
    }
   ],
   "source": [
    "#lag\n",
    "lag = [1, 2, 3, 4, 5, 25, 200]\n",
    "#iniciando as matrizes lag\n",
    "lag_abril = abril.iloc[200:4320].reset_index(drop=True)\n",
    "lag_maio = maio.iloc[200:2500].reset_index(drop=True)\n",
    "lag_maio2 = maio.iloc[2501:4460].reset_index(drop=True)\n",
    "\n",
    "#lag matrix\n",
    "for i in lag:\n",
    "    lag_abril = pd.concat([lag_abril, abril.iloc[200-i:4320-i].reset_index(drop=True)], axis=1)  \n",
    "    lag_maio = pd.concat([lag_maio, maio.iloc[200-i:2500-i].reset_index(drop=True)], axis=1)\n",
    "    lag_maio2 = pd.concat([lag_maio2, maio.iloc[2501-i:4460-i].reset_index(drop=True)], axis=1)\n",
    "    \n",
    "lag_abril.columns=['A','A-1','A-2','A-3','A-4','A-5','A-25','A-200']\n",
    "lag_maio.columns=['A','A-1','A-2','A-3','A-4','A-5','A-25','A-200']\n",
    "lag_maio2.columns=['A','A-1','A-2','A-3','A-4','A-5','A-25','A-200']\n",
    "\n",
    "#dataset\n",
    "X_train = lag_abril\n",
    "X_val = lag_maio\n",
    "X_test = lag_maio2\n",
    "\n",
    "Y_train = abril.iloc[200:4320]\n",
    "Y_val = maio.iloc[200:2500]\n",
    "Y_test = maio.iloc[2501:4460]\n",
    "Y_test"
   ]
  },
  {
   "cell_type": "code",
   "execution_count": 6,
   "metadata": {
    "colab": {
     "base_uri": "https://localhost:8080/",
     "height": 238
    },
    "id": "tVdjlezoK9HA",
    "outputId": "6f8f4ef6-77ec-4418-e3dc-800764c54b98"
   },
   "outputs": [
    {
     "data": {
      "text/plain": [
       "array([[0.35041113, 0.39342188, 0.40670462, ..., 0.41302973, 0.28273245,\n",
       "        0.64832385],\n",
       "       [0.36938646, 0.35041113, 0.39342188, ..., 0.43516762, 0.32194813,\n",
       "        0.6457938 ],\n",
       "       [0.35673624, 0.36938646, 0.35041113, ..., 0.40227704, 0.37824162,\n",
       "        0.55660974],\n",
       "       ...,\n",
       "       [0.12207464, 0.13029728, 0.15243517, ..., 0.13282732, 0.2283365 ,\n",
       "        0.22643896],\n",
       "       [0.09550917, 0.12207464, 0.13029728, ..., 0.16508539, 0.18722328,\n",
       "        0.23466161],\n",
       "       [0.09803922, 0.09550917, 0.12207464, ..., 0.16065781, 0.20240354,\n",
       "        0.2915876 ]])"
      ]
     },
     "execution_count": 6,
     "metadata": {},
     "output_type": "execute_result"
    }
   ],
   "source": [
    "scaler = MinMaxScaler()\n",
    "X_train = scaler.fit_transform(X_train)\n",
    "X_val = scaler.fit_transform(X_val)\n",
    "X_test = scaler.fit_transform(X_test)\n",
    "\n",
    "Y_train = scaler.fit_transform(Y_train).flatten()\n",
    "Y_val = scaler.fit_transform(Y_val).flatten()\n",
    "Y_test = scaler.fit_transform(Y_test).flatten()\n",
    "X_train"
   ]
  },
  {
   "cell_type": "code",
   "execution_count": 7,
   "metadata": {
    "id": "4-EMpWuyfht5"
   },
   "outputs": [],
   "source": [
    "regr  = MLPRegressor(random_state=1, max_iter=500).fit(X_train, Y_train)\n",
    "#regr.predict(X_test[:2])"
   ]
  },
  {
   "cell_type": "code",
   "execution_count": 8,
   "metadata": {
    "id": "yLu-8K_ugL4x"
   },
   "outputs": [],
   "source": [
    "pred = regr.predict(X_test)"
   ]
  },
  {
   "cell_type": "code",
   "execution_count": 9,
   "metadata": {
    "colab": {
     "base_uri": "https://localhost:8080/",
     "height": 296
    },
    "id": "AB3KuE75LyNJ",
    "outputId": "d544cf7e-68e5-4d27-b177-c9b609b78cc8"
   },
   "outputs": [
    {
     "data": {
      "text/plain": [
       "Text(0.5, 0, 'Data Sample')"
      ]
     },
     "execution_count": 9,
     "metadata": {},
     "output_type": "execute_result"
    },
    {
     "data": {
      "image/png": "[encoded data removed]",
      "text/plain": [
       "<Figure size 432x288 with 1 Axes>"
      ]
     },
     "metadata": {
      "needs_background": "light"
     },
     "output_type": "display_data"
    }
   ],
   "source": [
    "plt.plot(np.arange(1959),Y_test.flatten(), 'r',label='Real')\n",
    "plt.plot(np.arange(1959),pred.flatten(), 'b',label='Predicted')\n",
    "plt.legend()\n",
    "plt.ylabel(\"Wind Speed\")\n",
    "plt.xlabel(\"Data Sample\")"
   ]
  },
  {
   "cell_type": "code",
   "execution_count": null,
   "metadata": {
    "id": "5d3aMV0DPEP7"
   },
   "outputs": [],
   "source": []
  }
 ],
 "metadata": {
  "colab": {
   "collapsed_sections": [],
   "name": "vento.ipynb",
   "provenance": []
  },
  "kernelspec": {
   "display_name": "Python 3",
   "language": "python",
   "name": "python3"
  },
  "language_info": {
   "codemirror_mode": {
    "name": "ipython",
    "version": 3
   },
   "file_extension": ".py",
   "mimetype": "text/x-python",
   "name": "python",
   "nbconvert_exporter": "python",
   "pygments_lexer": "ipython3",
   "version": "3.8.6"
  }
 },
 "nbformat": 4,
 "nbformat_minor": 1
}
